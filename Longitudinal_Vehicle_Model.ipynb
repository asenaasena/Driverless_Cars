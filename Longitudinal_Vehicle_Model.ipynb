{
  "nbformat": 4,
  "nbformat_minor": 0,
  "metadata": {
    "kernelspec": {
      "display_name": "Python 3",
      "language": "python",
      "name": "python3"
    },
    "language_info": {
      "codemirror_mode": {
        "name": "ipython",
        "version": 3
      },
      "file_extension": ".py",
      "mimetype": "text/x-python",
      "name": "python",
      "nbconvert_exporter": "python",
      "pygments_lexer": "ipython3",
      "version": "3.7.1"
    },
    "colab": {
      "name": "Longitudinal_Vehicle_Model-Copy1 (1).ipynb",
      "provenance": []
    }
  },
  "cells": [
    {
      "cell_type": "markdown",
      "metadata": {
        "collapsed": true,
        "id": "yd2d4IZJxemQ"
      },
      "source": [
        "In this notebook, you will implement the forward longitudinal vehicle model. The model accepts throttle inputs and steps through the longitudinal dynamic equations. Once implemented, you will be given a set of inputs that drives over a small road slope to test your model.\n",
        "\n",
        "The input to the model is a throttle percentage $x_\\theta \\in [0,1]$ which provides torque to the engine and subsequently accelerates the vehicle for forward motion. \n",
        "\n",
        "The dynamic equations consist of many stages to convert throttle inputs to wheel speed (engine -> torque converter -> transmission -> wheel). These stages are bundled together in a single inertia term $J_e$ which is used in the following combined engine dynamic equations.\n",
        "\n",
        "\\begin{align}\n",
        "    J_e \\dot{\\omega}_e &= T_e - (GR)(r_{eff} F_{load}) \\\\ m\\ddot{x} &= F_x - F_{load}\n",
        "\\end{align}\n",
        "\n",
        "Where $T_e$ is the engine torque, $GR$ is the gear ratio, $r_{eff}$ is the effective radius, $m$ is the vehicle mass, $x$ is the vehicle position, $F_x$ is the tire force, and $F_{load}$ is the total load force. \n",
        "\n",
        "The engine torque is computed from the throttle input and the engine angular velocity $\\omega_e$ using a simplified quadratic model. \n",
        "\n",
        "\\begin{align}\n",
        "    T_e = x_{\\theta}(a_0 + a_1 \\omega_e + a_2 \\omega_e^2)\n",
        "\\end{align}\n",
        "\n",
        "The load forces consist of aerodynamic drag $F_{aero}$, rolling friction $R_x$, and gravitational force $F_g$ from an incline at angle $\\alpha$. The aerodynamic drag is a quadratic model and the friction is a linear model.\n",
        "\n",
        "\\begin{align}\n",
        "    F_{load} &= F_{aero} + R_x + F_g \\\\\n",
        "    F_{aero} &= \\frac{1}{2} C_a \\rho A \\dot{x}^2 = c_a \\dot{x}^2\\\\\n",
        "    R_x &= N(\\hat{c}_{r,0} + \\hat{c}_{r,1}|\\dot{x}| + \\hat{c}_{r,2}\\dot{x}^2) \\approx c_{r,1} \\dot{x}\\\\\n",
        "    F_g &= mg\\sin{\\alpha}\n",
        "\\end{align}\n",
        "\n",
        "Note that the absolute value is ignored for friction since the model is used for only forward motion ($\\dot{x} \\ge 0$). \n",
        " \n",
        "The tire force is computed using the engine speed and wheel slip equations.\n",
        "\n",
        "\\begin{align}\n",
        "    \\omega_w &= (GR)\\omega_e \\\\\n",
        "    s &= \\frac{\\omega_w r_e - \\dot{x}}{\\dot{x}}\\\\\n",
        "    F_x &= \\left\\{\\begin{array}{lr}\n",
        "        cs, &  |s| < 1\\\\\n",
        "        F_{max}, & \\text{otherwise}\n",
        "        \\end{array}\\right\\} \n",
        "\\end{align}\n",
        "\n",
        "Where $\\omega_w$ is the wheel angular velocity and $s$ is the slip ratio. \n",
        "\n",
        "We setup the longitudinal model inside a Python class below. The vehicle begins with an initial velocity of 5 m/s and engine speed of 100 rad/s. All the relevant parameters are defined and like the bicycle model, a sampling time of 10ms is used for numerical integration."
      ]
    },
    {
      "cell_type": "code",
      "metadata": {
        "id": "7q0XNKaqxemS"
      },
      "source": [
        "import sys\n",
        "import numpy as np\n",
        "import matplotlib.pyplot as plt\n",
        "import matplotlib.image as mpimg\n",
        "\n",
        "class Vehicle():\n",
        "    def __init__(self):\n",
        " \n",
        "        # ==================================\n",
        "        #  Parameters\n",
        "        # ==================================\n",
        "    \n",
        "        #Throttle to engine torque\n",
        "        self.a_0 = 400\n",
        "        self.a_1 = 0.1\n",
        "        self.a_2 = -0.0002\n",
        "        \n",
        "        # Gear ratio, effective radius, mass + inertia\n",
        "        self.GR = 0.35\n",
        "        self.r_e = 0.3\n",
        "        self.J_e = 10\n",
        "        self.m = 2000\n",
        "        self.g = 9.81\n",
        "        \n",
        "        # Aerodynamic and friction coefficients\n",
        "        self.c_a = 1.36\n",
        "        self.c_r1 = 0.01\n",
        "        \n",
        "        # Tire force \n",
        "        self.c = 10000\n",
        "        self.F_max = 10000\n",
        "        \n",
        "        # State variables\n",
        "        self.x = 0\n",
        "        self.v = 5\n",
        "        self.a = 0\n",
        "        self.w_e = 100\n",
        "        self.w_e_dot = 0\n",
        "        \n",
        "        self.sample_time = 0.01\n",
        "        \n",
        "    def reset(self):\n",
        "        # reset state variables\n",
        "        self.x = 0\n",
        "        self.v = 5\n",
        "        self.a = 0\n",
        "        self.w_e = 100\n",
        "        self.w_e_dot = 0"
      ],
      "execution_count": 1,
      "outputs": []
    },
    {
      "cell_type": "markdown",
      "metadata": {
        "id": "zMoFFWw7xemT"
      },
      "source": [
        "Implement the combined engine dynamic equations along with the force equations in the cell below. The function $\\textit{step}$ takes the throttle $x_\\theta$ and incline angle $\\alpha$ as inputs and performs numerical integration over one timestep to update the state variables. Hint: Integrate to find the current position, velocity, and engine speed first, then propagate those values into the set of equations."
      ]
    },
    {
      "cell_type": "code",
      "metadata": {
        "id": "WCbsDA7cxemU"
      },
      "source": [
        "class Vehicle(Vehicle):\n",
        "    def step(self, throttle, alpha):\n",
        "        # ==================================\n",
        "        #  Implement vehicle model here\n",
        "        \n",
        "        self.T_e=throttle*(self.a_0+self.a_1*self.w_e+self.a_2*self.w_e*self.w_e)\n",
        "        self.F_aero=self.c_a*self.v*self.v\n",
        "        self.R_x=self.c_r1*self.v\n",
        "        self.F_g=self.m*self.g*np.sin(alpha)\n",
        "        self.F_load=self.F_aero+self.R_x+self.F_g\n",
        "        self.w_w=self.GR*self.w_e\n",
        "        self.s=(self.w_w*self.r_e-self.v)/self.v\n",
        "        \n",
        "        if(abs(self.s)<1):\n",
        "            self.F_x=self.c*self.s\n",
        "        else:\n",
        "            self.F_x=self.F_max\n",
        "        \n",
        "        self.w_e_dot=(self.T_e-(self.GR*self.r_e*self.F_load))/self.J_e\n",
        "        self.w_e+=self.w_e_dot*self.sample_time\n",
        "        \n",
        "        self.a=(self.F_x-self.F_load)/self.m\n",
        "        self.v+=self.a*self.sample_time\n",
        "        self.x+=self.v*self.sample_time\n",
        "        # ==================================\n",
        "        pass"
      ],
      "execution_count": 2,
      "outputs": []
    },
    {
      "cell_type": "markdown",
      "metadata": {
        "id": "wATEWLJWxemU"
      },
      "source": [
        "Using the model, you can send constant throttle inputs to the vehicle in the cell below. You will observe that the velocity converges to a fixed value based on the throttle input due to the aerodynamic drag and tire force limit. A similar velocity profile can be seen by setting a negative incline angle $\\alpha$. In this case, gravity accelerates the vehicle to a terminal velocity where it is balanced by the drag force."
      ]
    },
    {
      "cell_type": "code",
      "metadata": {
        "colab": {
          "base_uri": "https://localhost:8080/",
          "height": 265
        },
        "id": "xLLkj0ZaxemV",
        "outputId": "4823be39-86c9-4bd6-e509-1f54ae99af97"
      },
      "source": [
        "sample_time = 0.01\n",
        "time_end = 100\n",
        "model = Vehicle()\n",
        "\n",
        "t_data = np.arange(0,time_end,sample_time)\n",
        "v_data = np.zeros_like(t_data)\n",
        "\n",
        "# throttle percentage between 0 and 1\n",
        "throttle = 0.2\n",
        "\n",
        "# incline angle (in radians)\n",
        "alpha = 0\n",
        "\n",
        "for i in range(t_data.shape[0]):\n",
        "    v_data[i] = model.v\n",
        "    model.step(throttle, alpha)\n",
        "    \n",
        "plt.plot(t_data, v_data)\n",
        "plt.show()"
      ],
      "execution_count": 3,
      "outputs": [
        {
          "output_type": "display_data",
          "data": {
            "image/png": "[encoded data removed]",
            "text/plain": [
              "<Figure size 432x288 with 1 Axes>"
            ]
          },
          "metadata": {
            "tags": [],
            "needs_background": "light"
          }
        }
      ]
    },
    {
      "cell_type": "markdown",
      "metadata": {
        "id": "yHfOL-HwxemW"
      },
      "source": [
        "We will now drive the vehicle over a slope as shown in the diagram below.\n",
        "\n",
        "![ramp](ramp.png)\n",
        "\n",
        "To climb the slope, a trapezoidal throttle input is provided for the next 20 seconds as shown in the figure below. \n",
        "\n",
        "![throttle](throttle.png)\n",
        "\n",
        "The vehicle begins at 20% throttle and gradually increases to 50% throttle. This is maintained for 10 seconds as the vehicle climbs the steeper slope. Afterwards, the vehicle reduces the throttle to 0.\n",
        "\n",
        "In the cell below, implement the ramp angle profile $\\alpha (x)$ and throttle profile $x_\\theta (t)$ and step them through the vehicle dynamics. The vehicle position $x(t)$ is saved in the array $\\textit{x_data}$. This will be used to grade your solution.\n"
      ]
    },
    {
      "cell_type": "code",
      "metadata": {
        "colab": {
          "base_uri": "https://localhost:8080/",
          "height": 265
        },
        "id": "FQltfH-CxemW",
        "outputId": "08ebf981-e441-40c9-8bbd-74da922ea560"
      },
      "source": [
        "time_end = 20\n",
        "t_data = np.arange(0,time_end,sample_time)\n",
        "x_data = np.zeros_like(t_data)\n",
        "\n",
        "# reset the states\n",
        "model.reset()\n",
        "\n",
        "# ==================================\n",
        "#  Learner solution begins here\n",
        "# ==================================\n",
        "alpha_profile=np.zeros_like(t_data)\n",
        "throttle_profile=np.zeros_like(t_data)\n",
        "alpha_profile[0]=np.arctan(0.05)\n",
        "\n",
        "throttle_profile[0]=0.2\n",
        "\n",
        "\n",
        "for i in range(t_data.shape[0]):\n",
        "    \n",
        "    if (i < 500):\n",
        "        throttle_profile[i]=0.2+((0.5-0.2)*i)/500  \n",
        "    elif (i < 1500):\n",
        "        throttle_profile[i]=0.5\n",
        "    else:\n",
        "        throttle_profile[i]=0.5-((0.5)*(i-1500)/(500))\n",
        "    \n",
        "    if (model.x<60):\n",
        "        alpha_profile[i]=np.arctan(0.05)\n",
        "    elif (model.x<150):\n",
        "        alpha_profile[i]=np.arctan(0.1) #(12-3)/90\n",
        "    else:\n",
        "        alpha_profile[i]=0\n",
        "\n",
        "    x_data[i]=model.x\n",
        "    model.step(throttle_profile[i], alpha_profile[i])\n",
        "\n",
        "# ==================================\n",
        "#  Learner solution ends here\n",
        "# ==================================\n",
        "\n",
        "# Plot x vs t for visualization\n",
        "plt.plot(t_data, x_data)\n",
        "plt.show()"
      ],
      "execution_count": 5,
      "outputs": [
        {
          "output_type": "display_data",
          "data": {
            "image/png": "[encoded data removed]",
            "text/plain": [
              "<Figure size 432x288 with 1 Axes>"
            ]
          },
          "metadata": {
            "tags": [],
            "needs_background": "light"
          }
        }
      ]
    },
    {
      "cell_type": "markdown",
      "metadata": {
        "id": "82pBS7lAxemX"
      },
      "source": [
        "If you have implemented the vehicle model and inputs correctly, you should see that the vehicle crosses the ramp at ~15s where the throttle input begins to decrease.\n",
        "\n",
        "The cell below will save the time and vehicle inputs as text file named $\\textit{xdata.txt}$. To locate the file, change the end of your web directory to $\\textit{/notebooks/Course_1_Module_4/xdata.txt}$\n",
        "\n",
        "Once you are there, you can download the file and submit to the Coursera grader to complete this assessment."
      ]
    },
    {
      "cell_type": "code",
      "metadata": {
        "id": "vm9w91z9xemX"
      },
      "source": [
        "data = np.vstack([t_data, x_data]).T\n",
        "np.savetxt('xdata.txt', data, delimiter=', ')"
      ],
      "execution_count": null,
      "outputs": []
    },
    {
      "cell_type": "markdown",
      "metadata": {
        "id": "ocahGhtbxemY"
      },
      "source": [
        "Congratulations! You have now completed the assessment! Feel free to test the vehicle model with different inputs in the cell below, and see what trajectories they form. In the next module, you will see the longitudinal model being used for speed control. See you there!"
      ]
    },
    {
      "cell_type": "code",
      "metadata": {
        "collapsed": true,
        "colab": {
          "base_uri": "https://localhost:8080/",
          "height": 761
        },
        "id": "IFzr5c8wxemY",
        "outputId": "7cd346f2-06fc-4e54-b0e0-1d57db923950"
      },
      "source": [
        "#random inputs to test the system\n",
        "sample_time = 0.01\n",
        "time_end = 30\n",
        "model.reset()\n",
        "\n",
        "t_data = np.arange(0,time_end,sample_time)\n",
        "x_data = np.zeros_like(t_data)\n",
        "v_data = np.zeros_like(t_data)\n",
        "a_data = np.zeros_like(t_data)\n",
        "\n",
        "# ==================================\n",
        "#  Test various inputs here\n",
        "alpha_profile=np.zeros_like(t_data)\n",
        "throttle_profile=np.zeros_like(t_data)\n",
        "alpha_profile[0]=np.arctan(0.05)\n",
        "\n",
        "throttle_profile[0]=0.5\n",
        "\n",
        "\n",
        "for i in range(t_data.shape[0]):\n",
        "    \n",
        "    if (i < 1500):\n",
        "        throttle_profile[i]=0.5\n",
        "    else:\n",
        "        throttle_profile[i]=0.5-((0.5)*(i-1500)/(500))\n",
        "    \n",
        "    if (model.x<60):\n",
        "        alpha_profile[i]=np.arctan(0.05)\n",
        "    elif (model.x<150):\n",
        "        alpha_profile[i]=np.arctan(0.1) #(12-3)/90\n",
        "    else:\n",
        "        alpha_profile[i]=0\n",
        "\n",
        "    x_data[i]=model.x\n",
        "    v_data[i]=model.v\n",
        "    a_data[i]=model.a\n",
        "    model.step(throttle_profile[i], alpha_profile[i])\n",
        "\n",
        "# ==================================\n",
        "\n",
        "    \n",
        "\n",
        "plt.plot(t_data, x_data,label='Position')\n",
        "plt.xlim([0, 30])\n",
        "plt.legend(loc=\"upper left\")\n",
        "plt.show()\n",
        "\n",
        "plt.plot(t_data, v_data, label='Velocity')\n",
        "plt.xlim([0, 30])\n",
        "plt.legend(loc=\"upper left\")\n",
        "plt.show()\n",
        "\n",
        "plt.plot(t_data, a_data, label='Accelaration')\n",
        "plt.xlim([0, 30])\n",
        "plt.legend(loc=\"upper left\")\n",
        "plt.show()"
      ],
      "execution_count": 24,
      "outputs": [
        {
          "output_type": "display_data",
          "data": {
            "image/png": "[encoded data removed]",
            "text/plain": [
              "<Figure size 432x288 with 1 Axes>"
            ]
          },
          "metadata": {
            "tags": [],
            "needs_background": "light"
          }
        },
        {
          "output_type": "display_data",
          "data": {
            "image/png": "[encoded data removed]",
            "text/plain": [
              "<Figure size 432x288 with 1 Axes>"
            ]
          },
          "metadata": {
            "tags": [],
            "needs_background": "light"
          }
        },
        {
          "output_type": "display_data",
          "data": {
            "image/png": "[encoded data removed]",
            "text/plain": [
              "<Figure size 432x288 with 1 Axes>"
            ]
          },
          "metadata": {
            "tags": [],
            "needs_background": "light"
          }
        }
      ]
    }
  ]
}